{
 "cells": [
  {
   "cell_type": "code",
   "execution_count": 162,
   "id": "3c864776",
   "metadata": {},
   "outputs": [],
   "source": [
    "# All purpose \n",
    "import pandas as pd\n",
    "import numpy as np\n",
    "import re\n",
    "from numpy import mean\n",
    "from numpy import std\n",
    "# Visualization\n",
    "import seaborn as sns\n",
    "import matplotlib.pyplot as plt\n",
    "\n",
    "# Sklearn ML\n",
    "from sklearn.model_selection import train_test_split\n",
    "from sklearn.tree import DecisionTreeClassifier, plot_tree\n",
    "from sklearn.ensemble import RandomForestClassifier, AdaBoostClassifier\n",
    "from sklearn import metrics\n",
    "from sklearn import preprocessing\n",
    "from sklearn.model_selection import cross_val_score\n",
    "from sklearn.metrics import cohen_kappa_score\n",
    "from sklearn.metrics import confusion_matrix\n",
    "from sklearn.metrics import classification_report\n",
    "from sklearn.metrics import precision_score\n",
    "from sklearn.metrics import precision_recall_fscore_support as score\n",
    "from sklearn.ensemble import GradientBoostingClassifier\n",
    "from sklearn.model_selection import RepeatedStratifiedKFold\n",
    "from sklearn import tree\n",
    "import sys\n",
    "sys._enablelegacywindowsfsencoding()\n",
    "pd.set_option('display.max_rows', None)"
   ]
  },
  {
   "cell_type": "code",
   "execution_count": 98,
   "id": "6f1b1e93",
   "metadata": {},
   "outputs": [
    {
     "name": "stdout",
     "output_type": "stream",
     "text": [
      "Data shape: (1151, 72)\n"
     ]
    }
   ],
   "source": [
    "#fields = ['comment', 'label']\n",
    "data = pd.read_csv(\"E:\\Semester 8\\Software Maintenance\\Assignment\\dataset.csv\", skipinitialspace=True,delimiter=\"#\")\n",
    "#commit_text= df['comment'].dropna()\n",
    "\n",
    "print(\"Data shape:\", data.shape)"
   ]
  },
  {
   "cell_type": "code",
   "execution_count": 106,
   "id": "5ff8a9ff",
   "metadata": {},
   "outputs": [],
   "source": [
    "#Keywords\n",
    "X = data[[\"add\",\"allow\",\"bug\",\"chang\",\"error\",\"fail\",\"fix\",\"implement\",\"improv\",\"issu\",\"method\",\"new\",\"npe\",\"refactor\",\"remov\",\"report\",\"set\",\"support\",\"test\",\"use\"]]\n",
    "#X = data[\"add\",\"allow\"]\n",
    "y = data[\"label\"]"
   ]
  },
  {
   "cell_type": "code",
   "execution_count": 107,
   "id": "3b055e5c",
   "metadata": {},
   "outputs": [],
   "source": [
    "#Changes\n",
    "X = data[[\"ADDING_ATTRIBUTE_MODIFIABILITY\",\"ADDING_CLASS_DERIVABILITY\",\"ADDING_METHOD_OVERRIDABILITY\",\"ADDITIONAL_CLASS\",\"ADDITIONAL_FUNCTIONALITY\",\"ADDITIONAL_OBJECT_STATE\",\"ALTERNATIVE_PART_DELETE\",\"ALTERNATIVE_PART_INSERT\",\"ATTRIBUTE_RENAMING\",\"ATTRIBUTE_TYPE_CHANGE\",\"CLASS_RENAMING\",\"COMMENT_DELETE\",\"COMMENT_INSERT\",\"COMMENT_MOVE\",\"COMMENT_UPDATE\",\"CONDITION_EXPRESSION_CHANGE\",\"DECREASING_ACCESSIBILITY_CHANGE\",\"DOC_DELETE\",\"DOC_INSERT\",\"DOC_UPDATE\",\"INCREASING_ACCESSIBILITY_CHANGE\",\"METHOD_RENAMING\",\"PARAMETER_DELETE\",\"PARAMETER_INSERT\",\"PARAMETER_ORDERING_CHANGE\",\"PARAMETER_RENAMING\",\"PARAMETER_TYPE_CHANGE\",\"PARENT_CLASS_CHANGE\",\"PARENT_CLASS_DELETE\",\"PARENT_CLASS_INSERT\",\"PARENT_INTERFACE_CHANGE\",\"PARENT_INTERFACE_DELETE\",\"PARENT_INTERFACE_INSERT\",\"REMOVED_CLASS\",\"REMOVED_FUNCTIONALITY\",\"REMOVED_OBJECT_STATE\",\"REMOVING_ATTRIBUTE_MODIFIABILITY\",\"REMOVING_CLASS_DERIVABILITY\",\"REMOVING_METHOD_OVERRIDABILITY\",\"RETURN_TYPE_CHANGE\",\"RETURN_TYPE_DELETE\",\"RETURN_TYPE_INSERT\",\"STATEMENT_DELETE\",\"STATEMENT_INSERT\",\"STATEMENT_ORDERING_CHANGE\",\"STATEMENT_PARENT_CHANGE\",\"STATEMENT_UPDATE\",\"UNCLASSIFIED_CHANGE\"]]\n",
    "#X = data[\"add\",\"allow\"]\n",
    "y = data[\"label\"]"
   ]
  },
  {
   "cell_type": "code",
   "execution_count": 121,
   "id": "9fa11848",
   "metadata": {},
   "outputs": [],
   "source": [
    "#Combined\n",
    "X = data[[\"ADDING_ATTRIBUTE_MODIFIABILITY\",\"ADDING_CLASS_DERIVABILITY\",\"ADDING_METHOD_OVERRIDABILITY\",\"ADDITIONAL_CLASS\",\"ADDITIONAL_FUNCTIONALITY\",\"ADDITIONAL_OBJECT_STATE\",\"ALTERNATIVE_PART_DELETE\",\"ALTERNATIVE_PART_INSERT\",\"ATTRIBUTE_RENAMING\",\"ATTRIBUTE_TYPE_CHANGE\",\"CLASS_RENAMING\",\"COMMENT_DELETE\",\"COMMENT_INSERT\",\"COMMENT_MOVE\",\"COMMENT_UPDATE\",\"CONDITION_EXPRESSION_CHANGE\",\"DECREASING_ACCESSIBILITY_CHANGE\",\"DOC_DELETE\",\"DOC_INSERT\",\"DOC_UPDATE\",\"INCREASING_ACCESSIBILITY_CHANGE\",\"METHOD_RENAMING\",\"PARAMETER_DELETE\",\"PARAMETER_INSERT\",\"PARAMETER_ORDERING_CHANGE\",\"PARAMETER_RENAMING\",\"PARAMETER_TYPE_CHANGE\",\"PARENT_CLASS_CHANGE\",\"PARENT_CLASS_DELETE\",\"PARENT_CLASS_INSERT\",\"PARENT_INTERFACE_CHANGE\",\"PARENT_INTERFACE_DELETE\",\"PARENT_INTERFACE_INSERT\",\"REMOVED_CLASS\",\"REMOVED_FUNCTIONALITY\",\"REMOVED_OBJECT_STATE\",\"REMOVING_ATTRIBUTE_MODIFIABILITY\",\"REMOVING_CLASS_DERIVABILITY\",\"REMOVING_METHOD_OVERRIDABILITY\",\"RETURN_TYPE_CHANGE\",\"RETURN_TYPE_DELETE\",\"RETURN_TYPE_INSERT\",\"STATEMENT_DELETE\",\"STATEMENT_INSERT\",\"STATEMENT_ORDERING_CHANGE\",\"STATEMENT_PARENT_CHANGE\",\"STATEMENT_UPDATE\",\"UNCLASSIFIED_CHANGE\",\"add\",\"allow\",\"bug\",\"chang\",\"error\",\"fail\",\"fix\",\"implement\",\"improv\",\"issu\",\"method\",\"new\",\"npe\",\"refactor\",\"remov\",\"report\",\"set\",\"support\",\"test\",\"use\"]]\n",
    "#X = data[\"add\",\"allow\"]\n",
    "y = data[\"label\"]"
   ]
  },
  {
   "cell_type": "code",
   "execution_count": 122,
   "id": "8e6f93dc",
   "metadata": {
    "scrolled": true
   },
   "outputs": [
    {
     "name": "stdout",
     "output_type": "stream",
     "text": [
      "(978, 68) (173, 68) (978,) (173,)\n"
     ]
    }
   ],
   "source": [
    "X_train, X_test, y_train, y_test = train_test_split(X, y, test_size = 0.15, random_state = 42)\n",
    "print(X_train.shape, X_test.shape, y_train.shape, y_test.shape)"
   ]
  },
  {
   "cell_type": "code",
   "execution_count": 123,
   "id": "30ba1b4f",
   "metadata": {},
   "outputs": [
    {
     "data": {
      "text/plain": [
       "0.7572254335260116"
      ]
     },
     "execution_count": 123,
     "metadata": {},
     "output_type": "execute_result"
    }
   ],
   "source": [
    "#Random Forest\n",
    "rfc = RandomForestClassifier()\n",
    "\n",
    "rfc.fit(X_train,y_train)\n",
    "# predictions\n",
    "\n",
    "rf_pred_train = rfc.predict(X_train)\n",
    "rf_pred_test = rfc.predict(X_test)\n",
    "accuracy = metrics.accuracy_score(y_test, rf_pred_test)\n",
    "accuracy\n",
    "#print(\"F1 score: {}%\".format(round(metrics.f1_score(y_test, rf_pred_test) * 100,3)))"
   ]
  },
  {
   "cell_type": "code",
   "execution_count": 114,
   "id": "d5f5225d",
   "metadata": {},
   "outputs": [
    {
     "name": "stdout",
     "output_type": "stream",
     "text": [
      "0.710593309488744\n"
     ]
    }
   ],
   "source": [
    "#cross-validation\n",
    "print (np.mean(cross_val_score(rfc, X_train, y_train, cv=10)))"
   ]
  },
  {
   "cell_type": "code",
   "execution_count": 124,
   "id": "576d0e5f",
   "metadata": {},
   "outputs": [
    {
     "data": {
      "text/plain": [
       "0.6155555555555556"
      ]
     },
     "execution_count": 124,
     "metadata": {},
     "output_type": "execute_result"
    }
   ],
   "source": [
    "#kappa\n",
    "cohen_score = cohen_kappa_score(y_test, rf_pred_test)\n",
    "cohen_score"
   ]
  },
  {
   "cell_type": "code",
   "execution_count": 127,
   "id": "b2d3ff03",
   "metadata": {},
   "outputs": [
    {
     "data": {
      "text/plain": [
       "array([[23,  5,  3],\n",
       "       [ 2, 59, 12],\n",
       "       [ 7, 13, 49]], dtype=int64)"
      ]
     },
     "execution_count": 127,
     "metadata": {},
     "output_type": "execute_result"
    }
   ],
   "source": [
    "matrix = confusion_matrix(y_test, rf_pred_test)\n",
    "matrix"
   ]
  },
  {
   "cell_type": "code",
   "execution_count": 143,
   "id": "60542b2d",
   "metadata": {},
   "outputs": [
    {
     "name": "stdout",
     "output_type": "stream",
     "text": [
      "              precision    recall  f1-score   support\n",
      "\n",
      "           a       0.72      0.74      0.73        31\n",
      "           c       0.77      0.81      0.79        73\n",
      "           p       0.77      0.71      0.74        69\n",
      "\n",
      "    accuracy                           0.76       173\n",
      "   macro avg       0.75      0.75      0.75       173\n",
      "weighted avg       0.76      0.76      0.76       173\n",
      "\n"
     ]
    }
   ],
   "source": [
    "report = classification_report(y_test, rf_pred_test)\n",
    "print(report)"
   ]
  },
  {
   "cell_type": "code",
   "execution_count": 149,
   "id": "b65f2389",
   "metadata": {},
   "outputs": [
    {
     "name": "stdout",
     "output_type": "stream",
     "text": [
      "Precision : [71.875      76.62337662 76.5625    ]\n",
      "Recall    : [74.19354839 80.82191781 71.01449275]\n"
     ]
    }
   ],
   "source": [
    "precision,recall,fscore,support=score(y_test, rf_pred_test)\n",
    "print ('Precision : {}'.format(precision*100))\n",
    "print ('Recall    : {}'.format(recall*100))"
   ]
  },
  {
   "cell_type": "code",
   "execution_count": 161,
   "id": "2815a22c",
   "metadata": {},
   "outputs": [
    {
     "name": "stdout",
     "output_type": "stream",
     "text": [
      "Accuracy: 72.864\n"
     ]
    }
   ],
   "source": [
    "#GBM\n",
    "model = GradientBoostingClassifier()\n",
    "cv = RepeatedStratifiedKFold(n_splits=10, n_repeats=3, random_state=1)\n",
    "n_scores = cross_val_score(model, X, y, scoring='accuracy', cv=cv, n_jobs=-1, error_score='raise')\n",
    "print('Accuracy: %.3f' % (mean(n_scores)*100))"
   ]
  },
  {
   "cell_type": "code",
   "execution_count": 171,
   "id": "fffd54da",
   "metadata": {},
   "outputs": [
    {
     "name": "stdout",
     "output_type": "stream",
     "text": [
      "Accuracy: 64.740\n"
     ]
    }
   ],
   "source": [
    "#J48\n",
    "clf = tree.DecisionTreeClassifier()\n",
    "clf.fit(X_train, y_train)\n",
    "clf_pred_train = clf.predict(X_train)\n",
    "clf_pred_test = clf.predict(X_test)\n",
    "accuracy = metrics.accuracy_score(y_test, clf_pred_test)\n",
    "print('Accuracy: %.3f' % (accuracy*100))"
   ]
  },
  {
   "cell_type": "code",
   "execution_count": null,
   "id": "c7782f84",
   "metadata": {},
   "outputs": [],
   "source": []
  },
  {
   "cell_type": "code",
   "execution_count": null,
   "id": "1adfa93e",
   "metadata": {},
   "outputs": [],
   "source": []
  }
 ],
 "metadata": {
  "kernelspec": {
   "display_name": "Python 3 (ipykernel)",
   "language": "python",
   "name": "python3"
  },
  "language_info": {
   "codemirror_mode": {
    "name": "ipython",
    "version": 3
   },
   "file_extension": ".py",
   "mimetype": "text/x-python",
   "name": "python",
   "nbconvert_exporter": "python",
   "pygments_lexer": "ipython3",
   "version": "3.9.12"
  }
 },
 "nbformat": 4,
 "nbformat_minor": 5
}
